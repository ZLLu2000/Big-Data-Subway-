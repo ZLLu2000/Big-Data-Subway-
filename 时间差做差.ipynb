{
 "cells": [
  {
   "cell_type": "code",
   "execution_count": 1,
   "metadata": {},
   "outputs": [
    {
     "name": "stderr",
     "output_type": "stream",
     "text": [
      "C:\\Users\\zhengzong\\AppData\\Roaming\\Python\\Python37\\site-packages\\pandas\\compat\\_optional.py:138: UserWarning: Pandas requires version '2.7.0' or newer of 'numexpr' (version '2.6.8' currently installed).\n",
      "  warnings.warn(msg, UserWarning)\n"
     ]
    }
   ],
   "source": [
    "import pandas as pd\n",
    "import numpy as np"
   ]
  },
  {
   "cell_type": "markdown",
   "metadata": {},
   "source": [
    "## 计算时间差变化"
   ]
  },
  {
   "cell_type": "code",
   "execution_count": 2,
   "metadata": {},
   "outputs": [],
   "source": [
    "df_mean_time_18 = pd.read_csv(\"./18年平均时间差.csv\")\n",
    "df_mean_time_20 = pd.read_csv(\"./20年平均时间差.csv\")"
   ]
  },
  {
   "cell_type": "code",
   "execution_count": 3,
   "metadata": {},
   "outputs": [],
   "source": [
    "df_mean_time_18 = df_mean_time_18.set_index(['卡号'])\n",
    "df_mean_time_20 = df_mean_time_20.set_index(['卡号'])\n",
    "df_mean_time_18.columns = ['18年时间差']\n",
    "df_mean_time_20.columns = ['20年时间差']"
   ]
  },
  {
   "cell_type": "code",
   "execution_count": 4,
   "metadata": {},
   "outputs": [
    {
     "data": {
      "text/plain": [
       "((9920078, 1), (1922246, 1))"
      ]
     },
     "execution_count": 4,
     "metadata": {},
     "output_type": "execute_result"
    }
   ],
   "source": [
    "df_mean_time_18.shape,df_mean_time_20.shape"
   ]
  },
  {
   "cell_type": "markdown",
   "metadata": {},
   "source": [
    "#### 选取18年和20年都存在的卡号"
   ]
  },
  {
   "cell_type": "code",
   "execution_count": 5,
   "metadata": {},
   "outputs": [],
   "source": [
    "result = pd.concat([df_mean_time_18 ,df_mean_time_20], axis=1, join=\"inner\")\n",
    "result['18年时间差'] = pd.to_timedelta(result['18年时间差'])\n",
    "result['20年时间差'] = pd.to_timedelta(result['20年时间差'])"
   ]
  },
  {
   "cell_type": "code",
   "execution_count": 6,
   "metadata": {},
   "outputs": [
    {
     "data": {
      "text/html": [
       "<div>\n",
       "<style scoped>\n",
       "    .dataframe tbody tr th:only-of-type {\n",
       "        vertical-align: middle;\n",
       "    }\n",
       "\n",
       "    .dataframe tbody tr th {\n",
       "        vertical-align: top;\n",
       "    }\n",
       "\n",
       "    .dataframe thead th {\n",
       "        text-align: right;\n",
       "    }\n",
       "</style>\n",
       "<table border=\"1\" class=\"dataframe\">\n",
       "  <thead>\n",
       "    <tr style=\"text-align: right;\">\n",
       "      <th></th>\n",
       "      <th>18年时间差</th>\n",
       "      <th>20年时间差</th>\n",
       "    </tr>\n",
       "    <tr>\n",
       "      <th>卡号</th>\n",
       "      <th></th>\n",
       "      <th></th>\n",
       "    </tr>\n",
       "  </thead>\n",
       "  <tbody>\n",
       "    <tr>\n",
       "      <th>1902</th>\n",
       "      <td>0 days 00:26:57.900000</td>\n",
       "      <td>0 days 00:34:24.319444444</td>\n",
       "    </tr>\n",
       "    <tr>\n",
       "      <th>2201</th>\n",
       "      <td>0 days 00:46:49</td>\n",
       "      <td>0 days 00:12:20</td>\n",
       "    </tr>\n",
       "    <tr>\n",
       "      <th>2584</th>\n",
       "      <td>0 days 00:38:42</td>\n",
       "      <td>0 days 01:10:55</td>\n",
       "    </tr>\n",
       "    <tr>\n",
       "      <th>12203</th>\n",
       "      <td>0 days 00:24:01.428571428</td>\n",
       "      <td>0 days 00:24:10.384615384</td>\n",
       "    </tr>\n",
       "    <tr>\n",
       "      <th>15949</th>\n",
       "      <td>0 days 00:22:07</td>\n",
       "      <td>0 days 00:12:32</td>\n",
       "    </tr>\n",
       "    <tr>\n",
       "      <th>...</th>\n",
       "      <td>...</td>\n",
       "      <td>...</td>\n",
       "    </tr>\n",
       "    <tr>\n",
       "      <th>205000587493</th>\n",
       "      <td>0 days 00:20:59</td>\n",
       "      <td>0 days 00:16:30.890625</td>\n",
       "    </tr>\n",
       "    <tr>\n",
       "      <th>205000589854</th>\n",
       "      <td>0 days 00:33:55</td>\n",
       "      <td>0 days 00:25:16</td>\n",
       "    </tr>\n",
       "    <tr>\n",
       "      <th>205000590423</th>\n",
       "      <td>0 days 00:29:30</td>\n",
       "      <td>0 days 00:10:17.200000</td>\n",
       "    </tr>\n",
       "    <tr>\n",
       "      <th>205000591224</th>\n",
       "      <td>0 days 00:34:43</td>\n",
       "      <td>0 days 00:09:46</td>\n",
       "    </tr>\n",
       "    <tr>\n",
       "      <th>301010060324</th>\n",
       "      <td>0 days 00:00:34</td>\n",
       "      <td>0 days 00:00:37</td>\n",
       "    </tr>\n",
       "  </tbody>\n",
       "</table>\n",
       "<p>309740 rows × 2 columns</p>\n",
       "</div>"
      ],
      "text/plain": [
       "                                18年时间差                    20年时间差\n",
       "卡号                                                              \n",
       "1902            0 days 00:26:57.900000 0 days 00:34:24.319444444\n",
       "2201                   0 days 00:46:49           0 days 00:12:20\n",
       "2584                   0 days 00:38:42           0 days 01:10:55\n",
       "12203        0 days 00:24:01.428571428 0 days 00:24:10.384615384\n",
       "15949                  0 days 00:22:07           0 days 00:12:32\n",
       "...                                ...                       ...\n",
       "205000587493           0 days 00:20:59    0 days 00:16:30.890625\n",
       "205000589854           0 days 00:33:55           0 days 00:25:16\n",
       "205000590423           0 days 00:29:30    0 days 00:10:17.200000\n",
       "205000591224           0 days 00:34:43           0 days 00:09:46\n",
       "301010060324           0 days 00:00:34           0 days 00:00:37\n",
       "\n",
       "[309740 rows x 2 columns]"
      ]
     },
     "execution_count": 6,
     "metadata": {},
     "output_type": "execute_result"
    }
   ],
   "source": [
    "result"
   ]
  },
  {
   "cell_type": "markdown",
   "metadata": {},
   "source": [
    "### 20年的时间差 减去 18年时间差"
   ]
  },
  {
   "cell_type": "code",
   "execution_count": 7,
   "metadata": {},
   "outputs": [
    {
     "data": {
      "text/plain": [
       "卡号\n",
       "1902           0 days 00:07:26.419444444\n",
       "2201                   -1 days +23:25:31\n",
       "2584                     0 days 00:32:13\n",
       "12203          0 days 00:00:08.956043956\n",
       "15949                  -1 days +23:50:25\n",
       "                          ...           \n",
       "205000587493    -1 days +23:55:31.890625\n",
       "205000589854           -1 days +23:51:21\n",
       "205000590423    -1 days +23:40:47.200000\n",
       "205000591224           -1 days +23:35:03\n",
       "301010060324             0 days 00:00:03\n",
       "Name: 时间差, Length: 309740, dtype: timedelta64[ns]"
      ]
     },
     "execution_count": 7,
     "metadata": {},
     "output_type": "execute_result"
    }
   ],
   "source": [
    "result['时间差'] = result['20年时间差'] - result['18年时间差'] \n",
    "result['时间差']"
   ]
  },
  {
   "cell_type": "markdown",
   "metadata": {},
   "source": [
    "将时间差换算成分钟和小时为单位"
   ]
  },
  {
   "cell_type": "code",
   "execution_count": 8,
   "metadata": {},
   "outputs": [],
   "source": [
    "result['时间差_秒'] = result['时间差'].apply(lambda x:x.total_seconds())\n",
    "result['时间差_分钟'] = result['时间差'].apply(lambda x:x.total_seconds()/60)\n",
    "result['时间差_小时'] = result['时间差'].apply(lambda x:x.total_seconds()/3600)"
   ]
  },
  {
   "cell_type": "code",
   "execution_count": 9,
   "metadata": {},
   "outputs": [
    {
     "data": {
      "text/html": [
       "<div>\n",
       "<style scoped>\n",
       "    .dataframe tbody tr th:only-of-type {\n",
       "        vertical-align: middle;\n",
       "    }\n",
       "\n",
       "    .dataframe tbody tr th {\n",
       "        vertical-align: top;\n",
       "    }\n",
       "\n",
       "    .dataframe thead th {\n",
       "        text-align: right;\n",
       "    }\n",
       "</style>\n",
       "<table border=\"1\" class=\"dataframe\">\n",
       "  <thead>\n",
       "    <tr style=\"text-align: right;\">\n",
       "      <th></th>\n",
       "      <th>18年时间差</th>\n",
       "      <th>20年时间差</th>\n",
       "      <th>时间差</th>\n",
       "      <th>时间差_秒</th>\n",
       "      <th>时间差_分钟</th>\n",
       "      <th>时间差_小时</th>\n",
       "    </tr>\n",
       "    <tr>\n",
       "      <th>卡号</th>\n",
       "      <th></th>\n",
       "      <th></th>\n",
       "      <th></th>\n",
       "      <th></th>\n",
       "      <th></th>\n",
       "      <th></th>\n",
       "    </tr>\n",
       "  </thead>\n",
       "  <tbody>\n",
       "    <tr>\n",
       "      <th>1902</th>\n",
       "      <td>0 days 00:26:57.900000</td>\n",
       "      <td>0 days 00:34:24.319444444</td>\n",
       "      <td>0 days 00:07:26.419444444</td>\n",
       "      <td>446.419444</td>\n",
       "      <td>7.440324</td>\n",
       "      <td>0.124005</td>\n",
       "    </tr>\n",
       "    <tr>\n",
       "      <th>2201</th>\n",
       "      <td>0 days 00:46:49</td>\n",
       "      <td>0 days 00:12:20</td>\n",
       "      <td>-1 days +23:25:31</td>\n",
       "      <td>-2069.000000</td>\n",
       "      <td>-34.483333</td>\n",
       "      <td>-0.574722</td>\n",
       "    </tr>\n",
       "    <tr>\n",
       "      <th>2584</th>\n",
       "      <td>0 days 00:38:42</td>\n",
       "      <td>0 days 01:10:55</td>\n",
       "      <td>0 days 00:32:13</td>\n",
       "      <td>1933.000000</td>\n",
       "      <td>32.216667</td>\n",
       "      <td>0.536944</td>\n",
       "    </tr>\n",
       "    <tr>\n",
       "      <th>12203</th>\n",
       "      <td>0 days 00:24:01.428571428</td>\n",
       "      <td>0 days 00:24:10.384615384</td>\n",
       "      <td>0 days 00:00:08.956043956</td>\n",
       "      <td>8.956043</td>\n",
       "      <td>0.149267</td>\n",
       "      <td>0.002488</td>\n",
       "    </tr>\n",
       "    <tr>\n",
       "      <th>15949</th>\n",
       "      <td>0 days 00:22:07</td>\n",
       "      <td>0 days 00:12:32</td>\n",
       "      <td>-1 days +23:50:25</td>\n",
       "      <td>-575.000000</td>\n",
       "      <td>-9.583333</td>\n",
       "      <td>-0.159722</td>\n",
       "    </tr>\n",
       "    <tr>\n",
       "      <th>...</th>\n",
       "      <td>...</td>\n",
       "      <td>...</td>\n",
       "      <td>...</td>\n",
       "      <td>...</td>\n",
       "      <td>...</td>\n",
       "      <td>...</td>\n",
       "    </tr>\n",
       "    <tr>\n",
       "      <th>205000587493</th>\n",
       "      <td>0 days 00:20:59</td>\n",
       "      <td>0 days 00:16:30.890625</td>\n",
       "      <td>-1 days +23:55:31.890625</td>\n",
       "      <td>-268.109375</td>\n",
       "      <td>-4.468490</td>\n",
       "      <td>-0.074475</td>\n",
       "    </tr>\n",
       "    <tr>\n",
       "      <th>205000589854</th>\n",
       "      <td>0 days 00:33:55</td>\n",
       "      <td>0 days 00:25:16</td>\n",
       "      <td>-1 days +23:51:21</td>\n",
       "      <td>-519.000000</td>\n",
       "      <td>-8.650000</td>\n",
       "      <td>-0.144167</td>\n",
       "    </tr>\n",
       "    <tr>\n",
       "      <th>205000590423</th>\n",
       "      <td>0 days 00:29:30</td>\n",
       "      <td>0 days 00:10:17.200000</td>\n",
       "      <td>-1 days +23:40:47.200000</td>\n",
       "      <td>-1152.800000</td>\n",
       "      <td>-19.213333</td>\n",
       "      <td>-0.320222</td>\n",
       "    </tr>\n",
       "    <tr>\n",
       "      <th>205000591224</th>\n",
       "      <td>0 days 00:34:43</td>\n",
       "      <td>0 days 00:09:46</td>\n",
       "      <td>-1 days +23:35:03</td>\n",
       "      <td>-1497.000000</td>\n",
       "      <td>-24.950000</td>\n",
       "      <td>-0.415833</td>\n",
       "    </tr>\n",
       "    <tr>\n",
       "      <th>301010060324</th>\n",
       "      <td>0 days 00:00:34</td>\n",
       "      <td>0 days 00:00:37</td>\n",
       "      <td>0 days 00:00:03</td>\n",
       "      <td>3.000000</td>\n",
       "      <td>0.050000</td>\n",
       "      <td>0.000833</td>\n",
       "    </tr>\n",
       "  </tbody>\n",
       "</table>\n",
       "<p>309740 rows × 6 columns</p>\n",
       "</div>"
      ],
      "text/plain": [
       "                                18年时间差                    20年时间差  \\\n",
       "卡号                                                                 \n",
       "1902            0 days 00:26:57.900000 0 days 00:34:24.319444444   \n",
       "2201                   0 days 00:46:49           0 days 00:12:20   \n",
       "2584                   0 days 00:38:42           0 days 01:10:55   \n",
       "12203        0 days 00:24:01.428571428 0 days 00:24:10.384615384   \n",
       "15949                  0 days 00:22:07           0 days 00:12:32   \n",
       "...                                ...                       ...   \n",
       "205000587493           0 days 00:20:59    0 days 00:16:30.890625   \n",
       "205000589854           0 days 00:33:55           0 days 00:25:16   \n",
       "205000590423           0 days 00:29:30    0 days 00:10:17.200000   \n",
       "205000591224           0 days 00:34:43           0 days 00:09:46   \n",
       "301010060324           0 days 00:00:34           0 days 00:00:37   \n",
       "\n",
       "                                   时间差        时间差_秒     时间差_分钟    时间差_小时  \n",
       "卡号                                                                        \n",
       "1902         0 days 00:07:26.419444444   446.419444   7.440324  0.124005  \n",
       "2201                 -1 days +23:25:31 -2069.000000 -34.483333 -0.574722  \n",
       "2584                   0 days 00:32:13  1933.000000  32.216667  0.536944  \n",
       "12203        0 days 00:00:08.956043956     8.956043   0.149267  0.002488  \n",
       "15949                -1 days +23:50:25  -575.000000  -9.583333 -0.159722  \n",
       "...                                ...          ...        ...       ...  \n",
       "205000587493  -1 days +23:55:31.890625  -268.109375  -4.468490 -0.074475  \n",
       "205000589854         -1 days +23:51:21  -519.000000  -8.650000 -0.144167  \n",
       "205000590423  -1 days +23:40:47.200000 -1152.800000 -19.213333 -0.320222  \n",
       "205000591224         -1 days +23:35:03 -1497.000000 -24.950000 -0.415833  \n",
       "301010060324           0 days 00:00:03     3.000000   0.050000  0.000833  \n",
       "\n",
       "[309740 rows x 6 columns]"
      ]
     },
     "execution_count": 9,
     "metadata": {},
     "output_type": "execute_result"
    }
   ],
   "source": [
    "result"
   ]
  },
  {
   "cell_type": "code",
   "execution_count": 11,
   "metadata": {
    "scrolled": true
   },
   "outputs": [
    {
     "data": {
      "text/plain": [
       "<seaborn.axisgrid.FacetGrid at 0x24b187359e8>"
      ]
     },
     "execution_count": 11,
     "metadata": {},
     "output_type": "execute_result"
    },
    {
     "data": {
      "image/png": "[encoded data removed]",
      "text/plain": [
       "<Figure size 360x360 with 1 Axes>"
      ]
     },
     "metadata": {},
     "output_type": "display_data"
    }
   ],
   "source": [
    "import seaborn as sns\n",
    "sns.set_theme(style=\"whitegrid\")\n",
    "rc = {'font.sans-serif': 'SimHei',\n",
    "      'axes.unicode_minus': False}\n",
    "sns.set(context='notebook', style='ticks', rc=rc)\n",
    "\n",
    "# Load the diamonds dataset\n",
    "diamonds = sns.load_dataset(\"diamonds\")\n",
    "\n",
    "# Plot the distribution of clarity ratings, conditional on carat\n",
    "sns.displot(\n",
    "    data=result[0:10000],\n",
    "    x=\"时间差_分钟\", \n",
    "    palette=\"ch:rot=-.25,hue=1,light=.75\",\n",
    ")"
   ]
  },
  {
   "cell_type": "markdown",
   "metadata": {},
   "source": [
    "上面的图为密度直方图，反应的是时间差的分布情况，从上面的时间差_分钟图中可以看出，基本呈现以0为均值的正态分布，基本集中在-50分钟到+50分钟的变化之间"
   ]
  },
  {
   "cell_type": "code",
   "execution_count": 12,
   "metadata": {},
   "outputs": [
    {
     "data": {
      "text/plain": [
       "<seaborn.axisgrid.FacetGrid at 0x24b18735550>"
      ]
     },
     "execution_count": 12,
     "metadata": {},
     "output_type": "execute_result"
    },
    {
     "data": {
      "image/png": "[encoded data removed]",
      "text/plain": [
       "<Figure size 360x360 with 1 Axes>"
      ]
     },
     "metadata": {},
     "output_type": "display_data"
    }
   ],
   "source": [
    "import seaborn as sns\n",
    "\n",
    "\n",
    "# Load the diamonds dataset\n",
    "diamonds = sns.load_dataset(\"diamonds\")\n",
    "\n",
    "# Plot the distribution of clarity ratings, conditional on carat\n",
    "sns.displot(\n",
    "    data=result[0:10000],\n",
    "    x=\"时间差_小时\", \n",
    "    palette=\"ch:rot=-.25,hue=1,light=.75\",\n",
    ")"
   ]
  },
  {
   "cell_type": "markdown",
   "metadata": {},
   "source": [
    "同理，这是单位转化为小时的密度直方图"
   ]
  },
  {
   "cell_type": "code",
   "execution_count": 14,
   "metadata": {},
   "outputs": [
    {
     "data": {
      "text/plain": [
       "count    309595.000000\n",
       "mean         55.152327\n",
       "std        1853.624790\n",
       "min         -14.269491\n",
       "25%          -0.213333\n",
       "50%          -0.006635\n",
       "75%           0.235139\n",
       "max      219959.874250\n",
       "Name: 时间差_小时, dtype: float64"
      ]
     },
     "execution_count": 14,
     "metadata": {},
     "output_type": "execute_result"
    }
   ],
   "source": [
    "result['时间差_小时'].describe()"
   ]
  },
  {
   "cell_type": "markdown",
   "metadata": {},
   "source": [
    "从数据的比较中可以更明显的看出，做差后的均值是+55小时，也就是说20年的时间差在总体情况上是要大于18年的时间差的。"
   ]
  },
  {
   "cell_type": "code",
   "execution_count": null,
   "metadata": {},
   "outputs": [],
   "source": []
  }
 ],
 "metadata": {
  "kernelspec": {
   "display_name": "Python 3",
   "language": "python",
   "name": "python3"
  },
  "language_info": {
   "codemirror_mode": {
    "name": "ipython",
    "version": 3
   },
   "file_extension": ".py",
   "mimetype": "text/x-python",
   "name": "python",
   "nbconvert_exporter": "python",
   "pygments_lexer": "ipython3",
   "version": "3.7.1"
  }
 },
 "nbformat": 4,
 "nbformat_minor": 2
}
