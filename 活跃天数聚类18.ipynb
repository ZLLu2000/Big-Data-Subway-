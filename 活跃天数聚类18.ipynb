{
 "cells": [
  {
   "cell_type": "code",
   "execution_count": 1,
   "metadata": {},
   "outputs": [
    {
     "name": "stderr",
     "output_type": "stream",
     "text": [
      "C:\\Users\\zhengzong\\AppData\\Roaming\\Python\\Python37\\site-packages\\pandas\\compat\\_optional.py:138: UserWarning: Pandas requires version '2.7.0' or newer of 'numexpr' (version '2.6.8' currently installed).\n",
      "  warnings.warn(msg, UserWarning)\n"
     ]
    }
   ],
   "source": [
    "import numpy as np\n",
    "import pandas as pd\n",
    "import gc"
   ]
  },
  {
   "cell_type": "code",
   "execution_count": 2,
   "metadata": {
    "scrolled": true
   },
   "outputs": [],
   "source": [
    "chunksize = 100000 * 400\n",
    "df = pd.read_csv(r\"D:\\BaiduNetdiskDownload\\201803.csv\", chunksize=chunksize, iterator=True) ### 这里切换 年份的数据集"
   ]
  },
  {
   "cell_type": "code",
   "execution_count": 3,
   "metadata": {},
   "outputs": [],
   "source": [
    "a = df.get_chunk()"
   ]
  },
  {
   "cell_type": "code",
   "execution_count": 4,
   "metadata": {},
   "outputs": [
    {
     "data": {
      "text/html": [
       "<div>\n",
       "<style scoped>\n",
       "    .dataframe tbody tr th:only-of-type {\n",
       "        vertical-align: middle;\n",
       "    }\n",
       "\n",
       "    .dataframe tbody tr th {\n",
       "        vertical-align: top;\n",
       "    }\n",
       "\n",
       "    .dataframe thead th {\n",
       "        text-align: right;\n",
       "    }\n",
       "</style>\n",
       "<table border=\"1\" class=\"dataframe\">\n",
       "  <thead>\n",
       "    <tr style=\"text-align: right;\">\n",
       "      <th></th>\n",
       "      <th>出站时间</th>\n",
       "      <th>到达车站编号</th>\n",
       "      <th>卡号</th>\n",
       "      <th>起始车站编号</th>\n",
       "      <th>进站时间</th>\n",
       "      <th>卡大类（99一卡通，1一票卡）</th>\n",
       "      <th>卡的子类型</th>\n",
       "      <th>扣费金额（100倍数，1是员工票或者计次票，0是免费票福利票车站工作票）</th>\n",
       "      <th>卡周期</th>\n",
       "      <th>对账日期</th>\n",
       "      <th>结算日期</th>\n",
       "      <th>安全密钥</th>\n",
       "      <th>闸机号</th>\n",
       "      <th>运营单位</th>\n",
       "      <th>钱包余额</th>\n",
       "      <th>交易序列号</th>\n",
       "    </tr>\n",
       "  </thead>\n",
       "  <tbody>\n",
       "    <tr>\n",
       "      <th>0</th>\n",
       "      <td>2018030112:13:28</td>\n",
       "      <td>150995224</td>\n",
       "      <td>43891592</td>\n",
       "      <td>150996029</td>\n",
       "      <td>2018030111:23:00</td>\n",
       "      <td>1</td>\n",
       "      <td>3</td>\n",
       "      <td>500.0</td>\n",
       "      <td>9</td>\n",
       "      <td>2018030100:00:00</td>\n",
       "      <td>2018030200:00:00</td>\n",
       "      <td>68248</td>\n",
       "      <td>520165380</td>\n",
       "      <td>41</td>\n",
       "      <td>0</td>\n",
       "      <td>1</td>\n",
       "    </tr>\n",
       "    <tr>\n",
       "      <th>1</th>\n",
       "      <td>2018030112:12:55</td>\n",
       "      <td>150995224</td>\n",
       "      <td>113161522</td>\n",
       "      <td>150996279</td>\n",
       "      <td>2018030111:41:00</td>\n",
       "      <td>1</td>\n",
       "      <td>3</td>\n",
       "      <td>400.0</td>\n",
       "      <td>8</td>\n",
       "      <td>2018030100:00:00</td>\n",
       "      <td>2018030200:00:00</td>\n",
       "      <td>68248</td>\n",
       "      <td>520165380</td>\n",
       "      <td>41</td>\n",
       "      <td>0</td>\n",
       "      <td>1</td>\n",
       "    </tr>\n",
       "    <tr>\n",
       "      <th>2</th>\n",
       "      <td>2018030112:12:50</td>\n",
       "      <td>150995224</td>\n",
       "      <td>106779752</td>\n",
       "      <td>150996279</td>\n",
       "      <td>2018030111:41:00</td>\n",
       "      <td>1</td>\n",
       "      <td>3</td>\n",
       "      <td>400.0</td>\n",
       "      <td>62</td>\n",
       "      <td>2018030100:00:00</td>\n",
       "      <td>2018030200:00:00</td>\n",
       "      <td>68248</td>\n",
       "      <td>520165380</td>\n",
       "      <td>41</td>\n",
       "      <td>0</td>\n",
       "      <td>1</td>\n",
       "    </tr>\n",
       "    <tr>\n",
       "      <th>3</th>\n",
       "      <td>2018030112:09:40</td>\n",
       "      <td>150995224</td>\n",
       "      <td>44132629</td>\n",
       "      <td>150996525</td>\n",
       "      <td>2018030111:30:00</td>\n",
       "      <td>1</td>\n",
       "      <td>3</td>\n",
       "      <td>300.0</td>\n",
       "      <td>43</td>\n",
       "      <td>2018030100:00:00</td>\n",
       "      <td>2018030200:00:00</td>\n",
       "      <td>68248</td>\n",
       "      <td>520165380</td>\n",
       "      <td>41</td>\n",
       "      <td>0</td>\n",
       "      <td>1</td>\n",
       "    </tr>\n",
       "    <tr>\n",
       "      <th>4</th>\n",
       "      <td>2018030112:09:14</td>\n",
       "      <td>150995224</td>\n",
       "      <td>57346980</td>\n",
       "      <td>150995457</td>\n",
       "      <td>2018030111:25:00</td>\n",
       "      <td>1</td>\n",
       "      <td>3</td>\n",
       "      <td>500.0</td>\n",
       "      <td>147</td>\n",
       "      <td>2018030100:00:00</td>\n",
       "      <td>2018030200:00:00</td>\n",
       "      <td>68248</td>\n",
       "      <td>520165380</td>\n",
       "      <td>41</td>\n",
       "      <td>0</td>\n",
       "      <td>1</td>\n",
       "    </tr>\n",
       "    <tr>\n",
       "      <th>...</th>\n",
       "      <td>...</td>\n",
       "      <td>...</td>\n",
       "      <td>...</td>\n",
       "      <td>...</td>\n",
       "      <td>...</td>\n",
       "      <td>...</td>\n",
       "      <td>...</td>\n",
       "      <td>...</td>\n",
       "      <td>...</td>\n",
       "      <td>...</td>\n",
       "      <td>...</td>\n",
       "      <td>...</td>\n",
       "      <td>...</td>\n",
       "      <td>...</td>\n",
       "      <td>...</td>\n",
       "      <td>...</td>\n",
       "    </tr>\n",
       "    <tr>\n",
       "      <th>39999995</th>\n",
       "      <td>2018030923:24:30</td>\n",
       "      <td>151019291</td>\n",
       "      <td>19695798</td>\n",
       "      <td>150996533</td>\n",
       "      <td>2018030921:53:00</td>\n",
       "      <td>99</td>\n",
       "      <td>1</td>\n",
       "      <td>560.0</td>\n",
       "      <td>0</td>\n",
       "      <td>2018030900:00:00</td>\n",
       "      <td>2018030900:00:00</td>\n",
       "      <td>59000166</td>\n",
       "      <td>526326594</td>\n",
       "      <td>75</td>\n",
       "      <td>11800</td>\n",
       "      <td>876</td>\n",
       "    </tr>\n",
       "    <tr>\n",
       "      <th>39999996</th>\n",
       "      <td>2018030923:30:53</td>\n",
       "      <td>150995203</td>\n",
       "      <td>60244737</td>\n",
       "      <td>151019779</td>\n",
       "      <td>2018030922:19:00</td>\n",
       "      <td>99</td>\n",
       "      <td>1</td>\n",
       "      <td>600.0</td>\n",
       "      <td>0</td>\n",
       "      <td>2018030900:00:00</td>\n",
       "      <td>2018030900:00:00</td>\n",
       "      <td>19000013</td>\n",
       "      <td>520160012</td>\n",
       "      <td>41</td>\n",
       "      <td>2600</td>\n",
       "      <td>498</td>\n",
       "    </tr>\n",
       "    <tr>\n",
       "      <th>39999997</th>\n",
       "      <td>2018030923:24:25</td>\n",
       "      <td>150995203</td>\n",
       "      <td>46233582</td>\n",
       "      <td>150996285</td>\n",
       "      <td>2018030922:22:00</td>\n",
       "      <td>99</td>\n",
       "      <td>1</td>\n",
       "      <td>600.0</td>\n",
       "      <td>0</td>\n",
       "      <td>2018030900:00:00</td>\n",
       "      <td>2018030900:00:00</td>\n",
       "      <td>19000013</td>\n",
       "      <td>520160012</td>\n",
       "      <td>41</td>\n",
       "      <td>1790</td>\n",
       "      <td>2738</td>\n",
       "    </tr>\n",
       "    <tr>\n",
       "      <th>39999998</th>\n",
       "      <td>2018030923:31:32</td>\n",
       "      <td>150995203</td>\n",
       "      <td>60452569</td>\n",
       "      <td>150995466</td>\n",
       "      <td>2018030922:39:00</td>\n",
       "      <td>99</td>\n",
       "      <td>1</td>\n",
       "      <td>600.0</td>\n",
       "      <td>0</td>\n",
       "      <td>2018030900:00:00</td>\n",
       "      <td>2018030900:00:00</td>\n",
       "      <td>19000007</td>\n",
       "      <td>520160006</td>\n",
       "      <td>41</td>\n",
       "      <td>2950</td>\n",
       "      <td>80</td>\n",
       "    </tr>\n",
       "    <tr>\n",
       "      <th>39999999</th>\n",
       "      <td>2018030923:31:00</td>\n",
       "      <td>150995203</td>\n",
       "      <td>81731143</td>\n",
       "      <td>150995469</td>\n",
       "      <td>2018030922:34:00</td>\n",
       "      <td>99</td>\n",
       "      <td>1</td>\n",
       "      <td>600.0</td>\n",
       "      <td>0</td>\n",
       "      <td>2018030900:00:00</td>\n",
       "      <td>2018030900:00:00</td>\n",
       "      <td>19000007</td>\n",
       "      <td>520160006</td>\n",
       "      <td>41</td>\n",
       "      <td>1360</td>\n",
       "      <td>1856</td>\n",
       "    </tr>\n",
       "  </tbody>\n",
       "</table>\n",
       "<p>40000000 rows × 16 columns</p>\n",
       "</div>"
      ],
      "text/plain": [
       "                      出站时间     到达车站编号         卡号     起始车站编号              进站时间  \\\n",
       "0         2018030112:13:28  150995224   43891592  150996029  2018030111:23:00   \n",
       "1         2018030112:12:55  150995224  113161522  150996279  2018030111:41:00   \n",
       "2         2018030112:12:50  150995224  106779752  150996279  2018030111:41:00   \n",
       "3         2018030112:09:40  150995224   44132629  150996525  2018030111:30:00   \n",
       "4         2018030112:09:14  150995224   57346980  150995457  2018030111:25:00   \n",
       "...                    ...        ...        ...        ...               ...   \n",
       "39999995  2018030923:24:30  151019291   19695798  150996533  2018030921:53:00   \n",
       "39999996  2018030923:30:53  150995203   60244737  151019779  2018030922:19:00   \n",
       "39999997  2018030923:24:25  150995203   46233582  150996285  2018030922:22:00   \n",
       "39999998  2018030923:31:32  150995203   60452569  150995466  2018030922:39:00   \n",
       "39999999  2018030923:31:00  150995203   81731143  150995469  2018030922:34:00   \n",
       "\n",
       "          卡大类（99一卡通，1一票卡）  卡的子类型  扣费金额（100倍数，1是员工票或者计次票，0是免费票福利票车站工作票）  卡周期  \\\n",
       "0                       1      3                                 500.0    9   \n",
       "1                       1      3                                 400.0    8   \n",
       "2                       1      3                                 400.0   62   \n",
       "3                       1      3                                 300.0   43   \n",
       "4                       1      3                                 500.0  147   \n",
       "...                   ...    ...                                   ...  ...   \n",
       "39999995               99      1                                 560.0    0   \n",
       "39999996               99      1                                 600.0    0   \n",
       "39999997               99      1                                 600.0    0   \n",
       "39999998               99      1                                 600.0    0   \n",
       "39999999               99      1                                 600.0    0   \n",
       "\n",
       "                      对账日期              结算日期      安全密钥        闸机号  运营单位  \\\n",
       "0         2018030100:00:00  2018030200:00:00     68248  520165380    41   \n",
       "1         2018030100:00:00  2018030200:00:00     68248  520165380    41   \n",
       "2         2018030100:00:00  2018030200:00:00     68248  520165380    41   \n",
       "3         2018030100:00:00  2018030200:00:00     68248  520165380    41   \n",
       "4         2018030100:00:00  2018030200:00:00     68248  520165380    41   \n",
       "...                    ...               ...       ...        ...   ...   \n",
       "39999995  2018030900:00:00  2018030900:00:00  59000166  526326594    75   \n",
       "39999996  2018030900:00:00  2018030900:00:00  19000013  520160012    41   \n",
       "39999997  2018030900:00:00  2018030900:00:00  19000013  520160012    41   \n",
       "39999998  2018030900:00:00  2018030900:00:00  19000007  520160006    41   \n",
       "39999999  2018030900:00:00  2018030900:00:00  19000007  520160006    41   \n",
       "\n",
       "           钱包余额  交易序列号  \n",
       "0             0      1  \n",
       "1             0      1  \n",
       "2             0      1  \n",
       "3             0      1  \n",
       "4             0      1  \n",
       "...         ...    ...  \n",
       "39999995  11800    876  \n",
       "39999996   2600    498  \n",
       "39999997   1790   2738  \n",
       "39999998   2950     80  \n",
       "39999999   1360   1856  \n",
       "\n",
       "[40000000 rows x 16 columns]"
      ]
     },
     "execution_count": 4,
     "metadata": {},
     "output_type": "execute_result"
    }
   ],
   "source": [
    "df_chunk = a\n",
    "df_chunk"
   ]
  },
  {
   "cell_type": "code",
   "execution_count": 5,
   "metadata": {},
   "outputs": [],
   "source": [
    "df_chunk['出站时间'] = pd.to_datetime(df_chunk['出站时间'],format=\"%Y%m%d%H:%M:%S\")\n",
    "df_chunk['进站时间'] = pd.to_datetime(df_chunk['进站时间'],format=\"%Y%m%d%H:%M:%S\")"
   ]
  },
  {
   "cell_type": "code",
   "execution_count": 6,
   "metadata": {},
   "outputs": [],
   "source": [
    "df_chunk['日期'] = df_chunk['出站时间'].apply(lambda x:str(x.year)+'-'+str(x.month)+'-'+str(x.day))"
   ]
  },
  {
   "cell_type": "code",
   "execution_count": 7,
   "metadata": {
    "scrolled": true
   },
   "outputs": [],
   "source": [
    "a = pd.DataFrame(df_chunk.groupby(['卡号'])[['日期','钱包余额']].nunique())"
   ]
  },
  {
   "cell_type": "code",
   "execution_count": 8,
   "metadata": {},
   "outputs": [
    {
     "data": {
      "text/html": [
       "<div>\n",
       "<style scoped>\n",
       "    .dataframe tbody tr th:only-of-type {\n",
       "        vertical-align: middle;\n",
       "    }\n",
       "\n",
       "    .dataframe tbody tr th {\n",
       "        vertical-align: top;\n",
       "    }\n",
       "\n",
       "    .dataframe thead th {\n",
       "        text-align: right;\n",
       "    }\n",
       "</style>\n",
       "<table border=\"1\" class=\"dataframe\">\n",
       "  <thead>\n",
       "    <tr style=\"text-align: right;\">\n",
       "      <th></th>\n",
       "      <th>卡号</th>\n",
       "      <th>日期</th>\n",
       "      <th>钱包余额</th>\n",
       "    </tr>\n",
       "  </thead>\n",
       "  <tbody>\n",
       "    <tr>\n",
       "      <th>0</th>\n",
       "      <td>1082</td>\n",
       "      <td>2</td>\n",
       "      <td>4</td>\n",
       "    </tr>\n",
       "    <tr>\n",
       "      <th>1</th>\n",
       "      <td>1123</td>\n",
       "      <td>1</td>\n",
       "      <td>2</td>\n",
       "    </tr>\n",
       "    <tr>\n",
       "      <th>2</th>\n",
       "      <td>1165</td>\n",
       "      <td>1</td>\n",
       "      <td>1</td>\n",
       "    </tr>\n",
       "    <tr>\n",
       "      <th>3</th>\n",
       "      <td>1266</td>\n",
       "      <td>1</td>\n",
       "      <td>2</td>\n",
       "    </tr>\n",
       "    <tr>\n",
       "      <th>4</th>\n",
       "      <td>1691</td>\n",
       "      <td>1</td>\n",
       "      <td>1</td>\n",
       "    </tr>\n",
       "    <tr>\n",
       "      <th>...</th>\n",
       "      <td>...</td>\n",
       "      <td>...</td>\n",
       "      <td>...</td>\n",
       "    </tr>\n",
       "    <tr>\n",
       "      <th>9920073</th>\n",
       "      <td>901000112934</td>\n",
       "      <td>2</td>\n",
       "      <td>4</td>\n",
       "    </tr>\n",
       "    <tr>\n",
       "      <th>9920074</th>\n",
       "      <td>901000113544</td>\n",
       "      <td>1</td>\n",
       "      <td>1</td>\n",
       "    </tr>\n",
       "    <tr>\n",
       "      <th>9920075</th>\n",
       "      <td>901000115481</td>\n",
       "      <td>1</td>\n",
       "      <td>1</td>\n",
       "    </tr>\n",
       "    <tr>\n",
       "      <th>9920076</th>\n",
       "      <td>901000118188</td>\n",
       "      <td>1</td>\n",
       "      <td>3</td>\n",
       "    </tr>\n",
       "    <tr>\n",
       "      <th>9920077</th>\n",
       "      <td>901000119053</td>\n",
       "      <td>1</td>\n",
       "      <td>1</td>\n",
       "    </tr>\n",
       "  </tbody>\n",
       "</table>\n",
       "<p>9920078 rows × 3 columns</p>\n",
       "</div>"
      ],
      "text/plain": [
       "                   卡号  日期  钱包余额\n",
       "0                1082   2     4\n",
       "1                1123   1     2\n",
       "2                1165   1     1\n",
       "3                1266   1     2\n",
       "4                1691   1     1\n",
       "...               ...  ..   ...\n",
       "9920073  901000112934   2     4\n",
       "9920074  901000113544   1     1\n",
       "9920075  901000115481   1     1\n",
       "9920076  901000118188   1     3\n",
       "9920077  901000119053   1     1\n",
       "\n",
       "[9920078 rows x 3 columns]"
      ]
     },
     "execution_count": 8,
     "metadata": {},
     "output_type": "execute_result"
    }
   ],
   "source": [
    "a = a.reset_index()\n",
    "a"
   ]
  },
  {
   "cell_type": "markdown",
   "metadata": {},
   "source": [
    "### 聚类"
   ]
  },
  {
   "cell_type": "code",
   "execution_count": 9,
   "metadata": {},
   "outputs": [],
   "source": [
    "from sklearn.cluster import KMeans "
   ]
  },
  {
   "cell_type": "code",
   "execution_count": 10,
   "metadata": {},
   "outputs": [],
   "source": [
    "X = a.copy()\n",
    "# X['日期_'] = X[['日期']\n",
    "X = X[['日期','钱包余额']].values"
   ]
  },
  {
   "cell_type": "code",
   "execution_count": 11,
   "metadata": {},
   "outputs": [],
   "source": [
    "# from sklearn.preprocessing import MinMaxScaler\n",
    "# scaler = MinMaxScaler()\n",
    "\n",
    "# scaler = scaler.fit(X)  # 本质生成 max(x) 和 min(x)\n",
    "# X = scaler.transform(X)"
   ]
  },
  {
   "cell_type": "code",
   "execution_count": 12,
   "metadata": {},
   "outputs": [],
   "source": [
    "#Model Build\n",
    "kmeansmodel = KMeans(n_clusters= 2, init='k-means++', random_state=0)\n",
    "y_kmeans = kmeansmodel.fit_predict(X)"
   ]
  },
  {
   "cell_type": "code",
   "execution_count": 13,
   "metadata": {
    "scrolled": true
   },
   "outputs": [],
   "source": [
    "a['聚类结果'] = y_kmeans"
   ]
  },
  {
   "cell_type": "code",
   "execution_count": 14,
   "metadata": {},
   "outputs": [
    {
     "data": {
      "text/plain": [
       "<Figure size 640x480 with 1 Axes>"
      ]
     },
     "metadata": {},
     "output_type": "display_data"
    }
   ],
   "source": [
    "import seaborn as sns\n",
    "import matplotlib.pyplot as plt\n",
    "plt.rcParams[\"font.sans-serif\"]=[\"SimHei\"] #设置字体\n",
    "plt.rcParams[\"axes.unicode_minus\"]=False #该语句解决图像中的“-”负号的乱码问题\n",
    "\n",
    "plt.scatter(X[y_kmeans == 0, 0], X[y_kmeans == 0, 1], s = 10, c = 'red', label = 'Cluster 0')\n",
    "plt.scatter(X[y_kmeans == 1, 0], X[y_kmeans == 1, 1], s = 10, c = 'blue', label = 'Cluster 1')\n",
    "\n",
    "#plt.scatter(kmeans.cluster_centers_[:, 0], kmeans.cluster_centers_[:, 12], s = 300, c = 'yellow', label = 'Centroids')\n",
    "plt.title('Clusters result')\n",
    "plt.xlabel('活跃天数')\n",
    "plt.ylabel('钱包余额变化')\n",
    "plt.legend()\n",
    "\n",
    "\n",
    "plt.savefig('./18Kmeans1.png', dpi = 400)\n",
    "plt.show()"
   ]
  },
  {
   "cell_type": "code",
   "execution_count": 15,
   "metadata": {},
   "outputs": [],
   "source": [
    "a.columns = ['卡号','活跃天数','钱包余额变化','聚类结果']\n",
    "a.to_csv(\"./18年活跃天数聚类_两指标.csv\",index=False,encoding='utf_8_sig')"
   ]
  },
  {
   "cell_type": "markdown",
   "metadata": {},
   "source": [
    "#### 活跃用户的百分比 "
   ]
  },
  {
   "cell_type": "code",
   "execution_count": 19,
   "metadata": {},
   "outputs": [
    {
     "data": {
      "text/plain": [
       "聚类结果\n",
       "0    1.613869\n",
       "1    5.168298\n",
       "Name: 活跃天数, dtype: float64"
      ]
     },
     "execution_count": 19,
     "metadata": {},
     "output_type": "execute_result"
    }
   ],
   "source": [
    "a.groupby(['聚类结果'])['活跃天数'].mean()"
   ]
  },
  {
   "cell_type": "markdown",
   "metadata": {},
   "source": [
    "可以看出类别1为活跃人群"
   ]
  },
  {
   "cell_type": "code",
   "execution_count": 20,
   "metadata": {},
   "outputs": [
    {
     "data": {
      "text/plain": [
       "0    7706602\n",
       "1    2213476\n",
       "Name: 聚类结果, dtype: int64"
      ]
     },
     "execution_count": 20,
     "metadata": {},
     "output_type": "execute_result"
    }
   ],
   "source": [
    "a['聚类结果'].value_counts()"
   ]
  },
  {
   "cell_type": "code",
   "execution_count": 21,
   "metadata": {},
   "outputs": [
    {
     "data": {
      "text/plain": [
       "0.22313090683359546"
      ]
     },
     "execution_count": 21,
     "metadata": {},
     "output_type": "execute_result"
    }
   ],
   "source": [
    "2213476 / ( 2213476 +  7706602) "
   ]
  },
  {
   "cell_type": "markdown",
   "metadata": {},
   "source": [
    "活跃用户的百分比为22.31%"
   ]
  },
  {
   "cell_type": "code",
   "execution_count": null,
   "metadata": {},
   "outputs": [],
   "source": []
  }
 ],
 "metadata": {
  "kernelspec": {
   "display_name": "Python 3",
   "language": "python",
   "name": "python3"
  },
  "language_info": {
   "codemirror_mode": {
    "name": "ipython",
    "version": 3
   },
   "file_extension": ".py",
   "mimetype": "text/x-python",
   "name": "python",
   "nbconvert_exporter": "python",
   "pygments_lexer": "ipython3",
   "version": "3.7.1"
  }
 },
 "nbformat": 4,
 "nbformat_minor": 2
}
