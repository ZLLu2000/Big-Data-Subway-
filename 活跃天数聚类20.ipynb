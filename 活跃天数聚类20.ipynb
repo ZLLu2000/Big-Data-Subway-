{
 "cells": [
  {
   "cell_type": "code",
   "execution_count": 1,
   "metadata": {},
   "outputs": [
    {
     "name": "stderr",
     "output_type": "stream",
     "text": [
      "C:\\Users\\zhengzong\\AppData\\Roaming\\Python\\Python37\\site-packages\\pandas\\compat\\_optional.py:138: UserWarning: Pandas requires version '2.7.0' or newer of 'numexpr' (version '2.6.8' currently installed).\n",
      "  warnings.warn(msg, UserWarning)\n"
     ]
    }
   ],
   "source": [
    "import numpy as np\n",
    "import pandas as pd\n",
    "import gc"
   ]
  },
  {
   "cell_type": "code",
   "execution_count": 2,
   "metadata": {},
   "outputs": [],
   "source": [
    "chunksize = 100000 * 400\n",
    "df = pd.read_csv(r\"D:\\BaiduNetdiskDownload\\202003.csv\", chunksize=chunksize, iterator=True) ### 这里切换 年份的数据集"
   ]
  },
  {
   "cell_type": "code",
   "execution_count": 4,
   "metadata": {},
   "outputs": [],
   "source": [
    "a = df.get_chunk()"
   ]
  },
  {
   "cell_type": "code",
   "execution_count": 5,
   "metadata": {},
   "outputs": [
    {
     "data": {
      "text/html": [
       "<div>\n",
       "<style scoped>\n",
       "    .dataframe tbody tr th:only-of-type {\n",
       "        vertical-align: middle;\n",
       "    }\n",
       "\n",
       "    .dataframe tbody tr th {\n",
       "        vertical-align: top;\n",
       "    }\n",
       "\n",
       "    .dataframe thead th {\n",
       "        text-align: right;\n",
       "    }\n",
       "</style>\n",
       "<table border=\"1\" class=\"dataframe\">\n",
       "  <thead>\n",
       "    <tr style=\"text-align: right;\">\n",
       "      <th></th>\n",
       "      <th>出站时间</th>\n",
       "      <th>到达车站编号</th>\n",
       "      <th>卡号</th>\n",
       "      <th>起始车站编号</th>\n",
       "      <th>进站时间</th>\n",
       "      <th>卡大类（99一卡通，1一票卡）</th>\n",
       "      <th>卡的子类型</th>\n",
       "      <th>扣费金额（100倍数，1是员工票或者计次票，0是免费票福利票车站工作票）</th>\n",
       "      <th>卡周期</th>\n",
       "      <th>对账日期</th>\n",
       "      <th>结算日期</th>\n",
       "      <th>安全密钥</th>\n",
       "      <th>闸机号</th>\n",
       "      <th>运营单位</th>\n",
       "      <th>钱包余额</th>\n",
       "      <th>交易序列号</th>\n",
       "    </tr>\n",
       "  </thead>\n",
       "  <tbody>\n",
       "    <tr>\n",
       "      <th>0</th>\n",
       "      <td>2020030313:18:37</td>\n",
       "      <td>151019041</td>\n",
       "      <td>14992300</td>\n",
       "      <td>150996999</td>\n",
       "      <td>2020030313:01:00</td>\n",
       "      <td>99</td>\n",
       "      <td>1</td>\n",
       "      <td>286.0</td>\n",
       "      <td>0</td>\n",
       "      <td>2020030300:00:00</td>\n",
       "      <td>2020030300:00:00</td>\n",
       "      <td>49000210</td>\n",
       "      <td>526262601</td>\n",
       "      <td>74</td>\n",
       "      <td>1650</td>\n",
       "      <td>319</td>\n",
       "    </tr>\n",
       "    <tr>\n",
       "      <th>1</th>\n",
       "      <td>2020030313:22:50</td>\n",
       "      <td>151019041</td>\n",
       "      <td>72628606</td>\n",
       "      <td>151019049</td>\n",
       "      <td>2020030312:57:00</td>\n",
       "      <td>99</td>\n",
       "      <td>1</td>\n",
       "      <td>500.0</td>\n",
       "      <td>0</td>\n",
       "      <td>2020030300:00:00</td>\n",
       "      <td>2020030300:00:00</td>\n",
       "      <td>49000208</td>\n",
       "      <td>526262600</td>\n",
       "      <td>74</td>\n",
       "      <td>2100</td>\n",
       "      <td>29</td>\n",
       "    </tr>\n",
       "    <tr>\n",
       "      <th>2</th>\n",
       "      <td>2020030313:22:50</td>\n",
       "      <td>151019041</td>\n",
       "      <td>72628606</td>\n",
       "      <td>151019049</td>\n",
       "      <td>2020030312:57:00</td>\n",
       "      <td>99</td>\n",
       "      <td>1</td>\n",
       "      <td>500.0</td>\n",
       "      <td>0</td>\n",
       "      <td>2020030300:00:00</td>\n",
       "      <td>2020030300:00:00</td>\n",
       "      <td>49000208</td>\n",
       "      <td>526262600</td>\n",
       "      <td>74</td>\n",
       "      <td>2100</td>\n",
       "      <td>29</td>\n",
       "    </tr>\n",
       "    <tr>\n",
       "      <th>3</th>\n",
       "      <td>2020030313:22:26</td>\n",
       "      <td>151019041</td>\n",
       "      <td>23413174</td>\n",
       "      <td>151019047</td>\n",
       "      <td>2020030313:07:00</td>\n",
       "      <td>99</td>\n",
       "      <td>1</td>\n",
       "      <td>400.0</td>\n",
       "      <td>0</td>\n",
       "      <td>2020030300:00:00</td>\n",
       "      <td>2020030300:00:00</td>\n",
       "      <td>49000208</td>\n",
       "      <td>526262600</td>\n",
       "      <td>74</td>\n",
       "      <td>10200</td>\n",
       "      <td>1092</td>\n",
       "    </tr>\n",
       "    <tr>\n",
       "      <th>4</th>\n",
       "      <td>2020030313:19:07</td>\n",
       "      <td>150996557</td>\n",
       "      <td>87981000</td>\n",
       "      <td>150997277</td>\n",
       "      <td>2020030311:57:00</td>\n",
       "      <td>99</td>\n",
       "      <td>1</td>\n",
       "      <td>1.0</td>\n",
       "      <td>0</td>\n",
       "      <td>2020030300:00:00</td>\n",
       "      <td>2020030300:00:00</td>\n",
       "      <td>69000960</td>\n",
       "      <td>520506642</td>\n",
       "      <td>46</td>\n",
       "      <td>1818</td>\n",
       "      <td>56</td>\n",
       "    </tr>\n",
       "    <tr>\n",
       "      <th>...</th>\n",
       "      <td>...</td>\n",
       "      <td>...</td>\n",
       "      <td>...</td>\n",
       "      <td>...</td>\n",
       "      <td>...</td>\n",
       "      <td>...</td>\n",
       "      <td>...</td>\n",
       "      <td>...</td>\n",
       "      <td>...</td>\n",
       "      <td>...</td>\n",
       "      <td>...</td>\n",
       "      <td>...</td>\n",
       "      <td>...</td>\n",
       "      <td>...</td>\n",
       "      <td>...</td>\n",
       "      <td>...</td>\n",
       "    </tr>\n",
       "    <tr>\n",
       "      <th>39999995</th>\n",
       "      <td>2020031313:28:41</td>\n",
       "      <td>151019561</td>\n",
       "      <td>46883915</td>\n",
       "      <td>150999077</td>\n",
       "      <td>2020031311:35:00</td>\n",
       "      <td>99</td>\n",
       "      <td>1</td>\n",
       "      <td>31.0</td>\n",
       "      <td>0</td>\n",
       "      <td>2020031300:00:00</td>\n",
       "      <td>2020031300:00:00</td>\n",
       "      <td>69000283</td>\n",
       "      <td>526395660</td>\n",
       "      <td>76</td>\n",
       "      <td>2430</td>\n",
       "      <td>3587</td>\n",
       "    </tr>\n",
       "    <tr>\n",
       "      <th>39999996</th>\n",
       "      <td>2020031313:28:41</td>\n",
       "      <td>151019561</td>\n",
       "      <td>46883915</td>\n",
       "      <td>150999077</td>\n",
       "      <td>2020031311:35:00</td>\n",
       "      <td>99</td>\n",
       "      <td>1</td>\n",
       "      <td>2.0</td>\n",
       "      <td>0</td>\n",
       "      <td>2020031300:00:00</td>\n",
       "      <td>2020031300:00:00</td>\n",
       "      <td>69000283</td>\n",
       "      <td>526395660</td>\n",
       "      <td>76</td>\n",
       "      <td>2430</td>\n",
       "      <td>3587</td>\n",
       "    </tr>\n",
       "    <tr>\n",
       "      <th>39999997</th>\n",
       "      <td>2020031313:28:41</td>\n",
       "      <td>151019561</td>\n",
       "      <td>46883915</td>\n",
       "      <td>150999077</td>\n",
       "      <td>2020031311:35:00</td>\n",
       "      <td>99</td>\n",
       "      <td>1</td>\n",
       "      <td>269.0</td>\n",
       "      <td>0</td>\n",
       "      <td>2020031300:00:00</td>\n",
       "      <td>2020031300:00:00</td>\n",
       "      <td>69000283</td>\n",
       "      <td>526395660</td>\n",
       "      <td>76</td>\n",
       "      <td>2430</td>\n",
       "      <td>3587</td>\n",
       "    </tr>\n",
       "    <tr>\n",
       "      <th>39999998</th>\n",
       "      <td>2020031313:28:41</td>\n",
       "      <td>151019561</td>\n",
       "      <td>46883915</td>\n",
       "      <td>150999077</td>\n",
       "      <td>2020031311:35:00</td>\n",
       "      <td>99</td>\n",
       "      <td>1</td>\n",
       "      <td>0.0</td>\n",
       "      <td>0</td>\n",
       "      <td>2020031300:00:00</td>\n",
       "      <td>2020031300:00:00</td>\n",
       "      <td>69000283</td>\n",
       "      <td>526395660</td>\n",
       "      <td>76</td>\n",
       "      <td>2430</td>\n",
       "      <td>3587</td>\n",
       "    </tr>\n",
       "    <tr>\n",
       "      <th>39999999</th>\n",
       "      <td>2020031313:28:26</td>\n",
       "      <td>151019561</td>\n",
       "      <td>51411065</td>\n",
       "      <td>150998591</td>\n",
       "      <td>2020031312:30:00</td>\n",
       "      <td>99</td>\n",
       "      <td>1</td>\n",
       "      <td>480.0</td>\n",
       "      <td>0</td>\n",
       "      <td>2020031300:00:00</td>\n",
       "      <td>2020031300:00:00</td>\n",
       "      <td>69000283</td>\n",
       "      <td>526395660</td>\n",
       "      <td>76</td>\n",
       "      <td>1136</td>\n",
       "      <td>1012</td>\n",
       "    </tr>\n",
       "  </tbody>\n",
       "</table>\n",
       "<p>40000000 rows × 16 columns</p>\n",
       "</div>"
      ],
      "text/plain": [
       "                      出站时间     到达车站编号        卡号     起始车站编号              进站时间  \\\n",
       "0         2020030313:18:37  151019041  14992300  150996999  2020030313:01:00   \n",
       "1         2020030313:22:50  151019041  72628606  151019049  2020030312:57:00   \n",
       "2         2020030313:22:50  151019041  72628606  151019049  2020030312:57:00   \n",
       "3         2020030313:22:26  151019041  23413174  151019047  2020030313:07:00   \n",
       "4         2020030313:19:07  150996557  87981000  150997277  2020030311:57:00   \n",
       "...                    ...        ...       ...        ...               ...   \n",
       "39999995  2020031313:28:41  151019561  46883915  150999077  2020031311:35:00   \n",
       "39999996  2020031313:28:41  151019561  46883915  150999077  2020031311:35:00   \n",
       "39999997  2020031313:28:41  151019561  46883915  150999077  2020031311:35:00   \n",
       "39999998  2020031313:28:41  151019561  46883915  150999077  2020031311:35:00   \n",
       "39999999  2020031313:28:26  151019561  51411065  150998591  2020031312:30:00   \n",
       "\n",
       "          卡大类（99一卡通，1一票卡）  卡的子类型  扣费金额（100倍数，1是员工票或者计次票，0是免费票福利票车站工作票）  卡周期  \\\n",
       "0                      99      1                                 286.0    0   \n",
       "1                      99      1                                 500.0    0   \n",
       "2                      99      1                                 500.0    0   \n",
       "3                      99      1                                 400.0    0   \n",
       "4                      99      1                                   1.0    0   \n",
       "...                   ...    ...                                   ...  ...   \n",
       "39999995               99      1                                  31.0    0   \n",
       "39999996               99      1                                   2.0    0   \n",
       "39999997               99      1                                 269.0    0   \n",
       "39999998               99      1                                   0.0    0   \n",
       "39999999               99      1                                 480.0    0   \n",
       "\n",
       "                      对账日期              结算日期      安全密钥        闸机号  运营单位  \\\n",
       "0         2020030300:00:00  2020030300:00:00  49000210  526262601    74   \n",
       "1         2020030300:00:00  2020030300:00:00  49000208  526262600    74   \n",
       "2         2020030300:00:00  2020030300:00:00  49000208  526262600    74   \n",
       "3         2020030300:00:00  2020030300:00:00  49000208  526262600    74   \n",
       "4         2020030300:00:00  2020030300:00:00  69000960  520506642    46   \n",
       "...                    ...               ...       ...        ...   ...   \n",
       "39999995  2020031300:00:00  2020031300:00:00  69000283  526395660    76   \n",
       "39999996  2020031300:00:00  2020031300:00:00  69000283  526395660    76   \n",
       "39999997  2020031300:00:00  2020031300:00:00  69000283  526395660    76   \n",
       "39999998  2020031300:00:00  2020031300:00:00  69000283  526395660    76   \n",
       "39999999  2020031300:00:00  2020031300:00:00  69000283  526395660    76   \n",
       "\n",
       "           钱包余额  交易序列号  \n",
       "0          1650    319  \n",
       "1          2100     29  \n",
       "2          2100     29  \n",
       "3         10200   1092  \n",
       "4          1818     56  \n",
       "...         ...    ...  \n",
       "39999995   2430   3587  \n",
       "39999996   2430   3587  \n",
       "39999997   2430   3587  \n",
       "39999998   2430   3587  \n",
       "39999999   1136   1012  \n",
       "\n",
       "[40000000 rows x 16 columns]"
      ]
     },
     "execution_count": 5,
     "metadata": {},
     "output_type": "execute_result"
    }
   ],
   "source": [
    "df_chunk = a\n",
    "df_chunk"
   ]
  },
  {
   "cell_type": "code",
   "execution_count": 6,
   "metadata": {},
   "outputs": [],
   "source": [
    "df_chunk['出站时间'] = pd.to_datetime(df_chunk['出站时间'],format=\"%Y%m%d%H:%M:%S\")\n",
    "df_chunk['进站时间'] = pd.to_datetime(df_chunk['进站时间'],format=\"%Y%m%d%H:%M:%S\")"
   ]
  },
  {
   "cell_type": "code",
   "execution_count": 7,
   "metadata": {},
   "outputs": [],
   "source": [
    "df_chunk['日期'] = df_chunk['出站时间'].apply(lambda x:str(x.year)+'-'+str(x.month)+'-'+str(x.day))"
   ]
  },
  {
   "cell_type": "code",
   "execution_count": 8,
   "metadata": {
    "scrolled": true
   },
   "outputs": [],
   "source": [
    "a = pd.DataFrame(df_chunk.groupby(['卡号'])[['日期','钱包余额']].nunique())"
   ]
  },
  {
   "cell_type": "code",
   "execution_count": 9,
   "metadata": {},
   "outputs": [
    {
     "data": {
      "text/html": [
       "<div>\n",
       "<style scoped>\n",
       "    .dataframe tbody tr th:only-of-type {\n",
       "        vertical-align: middle;\n",
       "    }\n",
       "\n",
       "    .dataframe tbody tr th {\n",
       "        vertical-align: top;\n",
       "    }\n",
       "\n",
       "    .dataframe thead th {\n",
       "        text-align: right;\n",
       "    }\n",
       "</style>\n",
       "<table border=\"1\" class=\"dataframe\">\n",
       "  <thead>\n",
       "    <tr style=\"text-align: right;\">\n",
       "      <th></th>\n",
       "      <th>卡号</th>\n",
       "      <th>日期</th>\n",
       "      <th>钱包余额</th>\n",
       "    </tr>\n",
       "  </thead>\n",
       "  <tbody>\n",
       "    <tr>\n",
       "      <th>0</th>\n",
       "      <td>126</td>\n",
       "      <td>1</td>\n",
       "      <td>1</td>\n",
       "    </tr>\n",
       "    <tr>\n",
       "      <th>1</th>\n",
       "      <td>626</td>\n",
       "      <td>1</td>\n",
       "      <td>1</td>\n",
       "    </tr>\n",
       "    <tr>\n",
       "      <th>2</th>\n",
       "      <td>1902</td>\n",
       "      <td>8</td>\n",
       "      <td>16</td>\n",
       "    </tr>\n",
       "    <tr>\n",
       "      <th>3</th>\n",
       "      <td>2201</td>\n",
       "      <td>1</td>\n",
       "      <td>1</td>\n",
       "    </tr>\n",
       "    <tr>\n",
       "      <th>4</th>\n",
       "      <td>2584</td>\n",
       "      <td>2</td>\n",
       "      <td>4</td>\n",
       "    </tr>\n",
       "    <tr>\n",
       "      <th>...</th>\n",
       "      <td>...</td>\n",
       "      <td>...</td>\n",
       "      <td>...</td>\n",
       "    </tr>\n",
       "    <tr>\n",
       "      <th>1874045</th>\n",
       "      <td>901000187613</td>\n",
       "      <td>1</td>\n",
       "      <td>1</td>\n",
       "    </tr>\n",
       "    <tr>\n",
       "      <th>1874046</th>\n",
       "      <td>901010017842</td>\n",
       "      <td>1</td>\n",
       "      <td>1</td>\n",
       "    </tr>\n",
       "    <tr>\n",
       "      <th>1874047</th>\n",
       "      <td>906000203810</td>\n",
       "      <td>4</td>\n",
       "      <td>5</td>\n",
       "    </tr>\n",
       "    <tr>\n",
       "      <th>1874048</th>\n",
       "      <td>961004042354</td>\n",
       "      <td>1</td>\n",
       "      <td>1</td>\n",
       "    </tr>\n",
       "    <tr>\n",
       "      <th>1874049</th>\n",
       "      <td>992000355069</td>\n",
       "      <td>1</td>\n",
       "      <td>1</td>\n",
       "    </tr>\n",
       "  </tbody>\n",
       "</table>\n",
       "<p>1874050 rows × 3 columns</p>\n",
       "</div>"
      ],
      "text/plain": [
       "                   卡号  日期  钱包余额\n",
       "0                 126   1     1\n",
       "1                 626   1     1\n",
       "2                1902   8    16\n",
       "3                2201   1     1\n",
       "4                2584   2     4\n",
       "...               ...  ..   ...\n",
       "1874045  901000187613   1     1\n",
       "1874046  901010017842   1     1\n",
       "1874047  906000203810   4     5\n",
       "1874048  961004042354   1     1\n",
       "1874049  992000355069   1     1\n",
       "\n",
       "[1874050 rows x 3 columns]"
      ]
     },
     "execution_count": 9,
     "metadata": {},
     "output_type": "execute_result"
    }
   ],
   "source": [
    "a = a.reset_index()\n",
    "a"
   ]
  },
  {
   "cell_type": "markdown",
   "metadata": {},
   "source": [
    "### 聚类"
   ]
  },
  {
   "cell_type": "code",
   "execution_count": 10,
   "metadata": {},
   "outputs": [],
   "source": [
    "from sklearn.cluster import KMeans "
   ]
  },
  {
   "cell_type": "code",
   "execution_count": 11,
   "metadata": {},
   "outputs": [],
   "source": [
    "X = a.copy()\n",
    "# X['日期_'] = X[['日期']\n",
    "X = X[['日期','钱包余额']].values"
   ]
  },
  {
   "cell_type": "code",
   "execution_count": null,
   "metadata": {},
   "outputs": [],
   "source": [
    "# from sklearn.preprocessing import MinMaxScaler\n",
    "# scaler = MinMaxScaler()\n",
    "\n",
    "# scaler = scaler.fit(X)  # 本质生成 max(x) 和 min(x)\n",
    "# X = scaler.transform(X)"
   ]
  },
  {
   "cell_type": "code",
   "execution_count": 12,
   "metadata": {},
   "outputs": [],
   "source": [
    "#Model Build\n",
    "kmeansmodel = KMeans(n_clusters= 2, init='k-means++', random_state=0)\n",
    "y_kmeans = kmeansmodel.fit_predict(X)"
   ]
  },
  {
   "cell_type": "code",
   "execution_count": 13,
   "metadata": {},
   "outputs": [],
   "source": [
    "a['聚类结果'] = y_kmeans"
   ]
  },
  {
   "cell_type": "code",
   "execution_count": 21,
   "metadata": {},
   "outputs": [
    {
     "data": {
      "image/png": "[encoded data removed]",
      "text/plain": [
       "<Figure size 432x288 with 1 Axes>"
      ]
     },
     "metadata": {
      "needs_background": "light"
     },
     "output_type": "display_data"
    }
   ],
   "source": [
    "import seaborn as sns\n",
    "import matplotlib.pyplot as plt\n",
    "plt.rcParams[\"font.sans-serif\"]=[\"SimHei\"] #设置字体\n",
    "plt.rcParams[\"axes.unicode_minus\"]=False #该语句解决图像中的“-”负号的乱码问题\n",
    "\n",
    "plt.scatter(X[y_kmeans == 0, 0], X[y_kmeans == 0, 1], s = 10, c = 'blue', label = '活跃人群')\n",
    "plt.scatter(X[y_kmeans == 1, 0], X[y_kmeans == 1, 1], s = 10, c = 'red', label = '非活跃人群')\n",
    "\n",
    "#plt.scatter(kmeans.cluster_centers_[:, 0], kmeans.cluster_centers_[:, 12], s = 300, c = 'yellow', label = 'Centroids')\n",
    "plt.title('Clusters result')\n",
    "plt.xlabel('活跃天数')\n",
    "plt.ylabel('钱包余额变化')\n",
    "plt.legend()\n",
    "\n",
    "\n",
    "plt.savefig('./20Kmeans1.png', dpi = 400)\n",
    "plt.show()"
   ]
  },
  {
   "cell_type": "code",
   "execution_count": 15,
   "metadata": {},
   "outputs": [],
   "source": [
    "a.columns = ['卡号','活跃天数','钱包余额变化','聚类结果']\n",
    "a.to_csv(\"./20年活跃天数聚类_两指标.csv\",index=False,encoding='utf_8_sig')"
   ]
  },
  {
   "cell_type": "markdown",
   "metadata": {},
   "source": [
    "#### 活跃用户的百分比 "
   ]
  },
  {
   "cell_type": "code",
   "execution_count": 16,
   "metadata": {},
   "outputs": [
    {
     "data": {
      "text/plain": [
       "聚类结果\n",
       "0    7.147941\n",
       "1    2.381471\n",
       "Name: 活跃天数, dtype: float64"
      ]
     },
     "execution_count": 16,
     "metadata": {},
     "output_type": "execute_result"
    }
   ],
   "source": [
    "a.groupby(['聚类结果'])['活跃天数'].mean()"
   ]
  },
  {
   "cell_type": "markdown",
   "metadata": {},
   "source": [
    "可以看出类别1为活跃人群"
   ]
  },
  {
   "cell_type": "code",
   "execution_count": 17,
   "metadata": {},
   "outputs": [
    {
     "data": {
      "text/plain": [
       "1    1563420\n",
       "0     310630\n",
       "Name: 聚类结果, dtype: int64"
      ]
     },
     "execution_count": 17,
     "metadata": {},
     "output_type": "execute_result"
    }
   ],
   "source": [
    "a['聚类结果'].value_counts()"
   ]
  },
  {
   "cell_type": "code",
   "execution_count": 20,
   "metadata": {},
   "outputs": [
    {
     "data": {
      "text/plain": [
       "0.16575331501293988"
      ]
     },
     "execution_count": 20,
     "metadata": {},
     "output_type": "execute_result"
    }
   ],
   "source": [
    "310630 / (310630 + 1563420) "
   ]
  },
  {
   "cell_type": "markdown",
   "metadata": {},
   "source": [
    "活跃用户的百分比为16.75%"
   ]
  },
  {
   "cell_type": "code",
   "execution_count": null,
   "metadata": {},
   "outputs": [],
   "source": []
  }
 ],
 "metadata": {
  "kernelspec": {
   "display_name": "Python 3",
   "language": "python",
   "name": "python3"
  },
  "language_info": {
   "codemirror_mode": {
    "name": "ipython",
    "version": 3
   },
   "file_extension": ".py",
   "mimetype": "text/x-python",
   "name": "python",
   "nbconvert_exporter": "python",
   "pygments_lexer": "ipython3",
   "version": "3.7.1"
  }
 },
 "nbformat": 4,
 "nbformat_minor": 2
}
